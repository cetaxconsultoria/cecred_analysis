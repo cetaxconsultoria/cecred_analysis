{
 "cells": [
  {
   "cell_type": "code",
   "execution_count": 1,
   "metadata": {},
   "outputs": [
    {
     "name": "stderr",
     "output_type": "stream",
     "text": [
      "/Users/Maronato/anaconda/lib/python3.5/site-packages/sklearn/cross_validation.py:44: DeprecationWarning: This module was deprecated in version 0.18 in favor of the model_selection module into which all the refactored classes and functions are moved. Also note that the interface of the new CV iterators are different from that of this module. This module will be removed in 0.20.\n",
      "  \"This module will be removed in 0.20.\", DeprecationWarning)\n",
      "/Users/Maronato/anaconda/lib/python3.5/site-packages/sklearn/learning_curve.py:23: DeprecationWarning: This module was deprecated in version 0.18 in favor of the model_selection module into which all the functions are moved. This module will be removed in 0.20\n",
      "  DeprecationWarning)\n"
     ]
    }
   ],
   "source": [
    "%matplotlib inline\n",
    "import pandas as pd\n",
    "import numpy as np\n",
    "from collections import Counter\n",
    "import matplotlib.pyplot as plt\n",
    "from sklearn.naive_bayes import MultinomialNB\n",
    "from sklearn.pipeline import Pipeline\n",
    "from sklearn.metrics import confusion_matrix, f1_score, accuracy_score, classification_report\n",
    "from sklearn.cross_validation import StratifiedKFold, cross_val_score, train_test_split \n",
    "from sklearn.base import TransformerMixin\n",
    "from sklearn.learning_curve import learning_curve\n",
    "\n",
    "from sklearn.externals import joblib"
   ]
  },
  {
   "cell_type": "code",
   "execution_count": 2,
   "metadata": {
    "collapsed": true
   },
   "outputs": [],
   "source": [
    "def clean_data(data,\n",
    "               remove_anormal=True,\n",
    "               useless_columns=[\"AGENCIA_NMBAIRRO\", \"NRENDERE\", \"QTFUNCIO\", \"DSSEXO\", \n",
    "                                \"DSPROFTL\", \"NMBAIRRO\", \"AGENCIA_DSENDCOP\", \"DSENDERE\", \n",
    "                                \"AGENCIA_NMRESAGE\", \"AGENCIA_NMCIDADE\"],\n",
    "               remove_redundant=True,\n",
    "               remove_product_value=True,\n",
    "               dummify_categorical=True,\n",
    "               booleanfy=True\n",
    "              ):\n",
    "\n",
    "    count_vector = {}\n",
    "    for column in data.columns.values:\n",
    "        count_vector[column] = Counter(data[column])\n",
    "    \n",
    "    # Colunas com apenas 1 tipo de dado\n",
    "    redundant_columns = []\n",
    "\n",
    "    # Colunas que representam o valor de um produto\n",
    "    product_value_columns = []\n",
    "\n",
    "    # Colunas que devem ser dummified\n",
    "    dummy_columns = []\n",
    "\n",
    "    # Para cada coluna no count_vector\n",
    "    for k, v in count_vector.items():\n",
    "\n",
    "        # ignora colunas inúteis    \n",
    "        if k in useless_columns:\n",
    "            continue\n",
    "        # Encontra redundantes    \n",
    "        elif len(v) == 1 and remove_redundant:\n",
    "            redundant_columns.append(k)\n",
    "        # Encontra colunas de valores de produto    \n",
    "        elif k.startswith(\"VL\") and remove_product_value:\n",
    "            product_value_columns.append(k)\n",
    "        # dummify    \n",
    "        elif len(v) > 2 and (not k.startswith(\"VL\") and not k.startswith(\"QTDE\")) and dummify_categorical:\n",
    "            dummy_columns.append(k)\n",
    "        #  booleanfy boolean columns (1 == most common)   \n",
    "        elif len(v) == 2 and booleanfy:\n",
    "            if not (v.most_common()[0][0] == 0 or v.most_common()[0][0] == 1) or not (v.most_common()[1][0] == 0 or v.most_common()[1][0] == 1):\n",
    "                data[k] = data[k].map({v.most_common()[0][0]: 1, v.most_common()[1][0]: 0})\n",
    "\n",
    "\n",
    "    # Remove as colunas indicadas\n",
    "    data = data.drop(redundant_columns, axis=1)\n",
    "    \n",
    "    data = data.drop(product_value_columns, axis=1)\n",
    "\n",
    "    data = data.drop(useless_columns, axis=1)\n",
    "    \n",
    "    data = pd.get_dummies(data, columns=dummy_columns)\n",
    "    \n",
    "    return data\n",
    "\n",
    "def select_product(data, product_name, produtos, include_other_products=False):\n",
    "    produtos = produtos\n",
    "    produto = data[product_name]\n",
    "    if include_other_products:\n",
    "        data = data.drop(product_name, axis=1)\n",
    "    else:\n",
    "        data = data.drop(produtos, axis=1)\n",
    "    return data, produto\n",
    "\n",
    "# Helper pra criar test e train set pra um produto\n",
    "def train_test_sets(df, product, produtos, test_size=0.2, include_other_products=False):\n",
    "    data, p = select_product(df, product, produtos, include_other_products)\n",
    "    return train_test_split(data, p, test_size=test_size)\n",
    "\n",
    "\n",
    "def get_sets(data, product_name, produtos, test_size=0.2, include_other_products=False):\n",
    "    return train_test_sets(data, product_name, produtos, test_size, include_other_products)\n",
    "\n",
    "\n",
    "def train_model(data_train, label_train, pipeline):\n",
    "    pipeline.fit(data_train, label_train)\n",
    "    return pipeline\n",
    "\n",
    "\n",
    "\n",
    "def confusion_test(data_test, label_test, fitted_pipeline):\n",
    "    predicted = fitted_pipeline.predict(data_test)\n",
    "    \n",
    "    print()\n",
    "    print(\"Train set size:\", len(data_train), \"Test set size:\", len(data_test))\n",
    "    print(classification_report(label_test, predicted))\n",
    "    plt.matshow(confusion_matrix(predicted, label_test), cmap=plt.cm.binary, interpolation='nearest')\n",
    "    plt.colorbar()\n",
    "    plt.ylabel('expected label')\n",
    "    plt.xlabel('predicted label')\n",
    "    plt.show()\n",
    "    return\n",
    "\n",
    "def plot_learning_curve(estimator, title, X, y, ylim=None, cv=10, train_sizes=np.linspace(.1, 1.0, 5)):\n",
    "    print(\"Creating figure\")\n",
    "    plt.figure()\n",
    "    plt.title(title)\n",
    "    if ylim is not None:\n",
    "        plt.ylim(*ylim)\n",
    "    plt.xlabel(\"Training examples\")\n",
    "    plt.ylabel(\"Score\")\n",
    "    print(\"Creating learning curve\")\n",
    "    train_sizes, train_scores, test_scores = learning_curve(\n",
    "        estimator, X, y, cv=cv, train_sizes=train_sizes)\n",
    "    print(\"Processing results\")\n",
    "    train_scores_mean = np.mean(train_scores, axis=1)\n",
    "    train_scores_std = np.std(train_scores, axis=1)\n",
    "    test_scores_mean = np.mean(test_scores, axis=1)\n",
    "    test_scores_std = np.std(test_scores, axis=1)\n",
    "    print(\"Creating grid\")\n",
    "    plt.grid()\n",
    "    print(\"Filling grid\")\n",
    "    plt.fill_between(train_sizes, train_scores_mean - train_scores_std,\n",
    "                     train_scores_mean + train_scores_std, alpha=0.1,\n",
    "                     color=\"r\")\n",
    "    plt.fill_between(train_sizes, test_scores_mean - test_scores_std,\n",
    "                     test_scores_mean + test_scores_std, alpha=0.1, color=\"b\")\n",
    "    print(\"Plotting\")\n",
    "    plt.plot(train_sizes, train_scores_mean, 'o-', color=\"r\",\n",
    "             label=\"Training score\")\n",
    "    plt.plot(train_sizes, test_scores_mean, 'o-', color=\"b\",\n",
    "             label=\"Cross-validation score\")\n",
    "\n",
    "    plt.legend(loc=\"best\")\n",
    "    return plt\n",
    "\n",
    "\n",
    "def product_learning_curves(data, product, produtos, title, pipeline, include_other_products=False, cv=10):\n",
    "    data_vector, label_vector = select_product(data, product, produtos, include_other_products=False)\n",
    "    %time plot_learning_curve(pipeline, \"accuracy vs. training set size ({})\".format(title), data_vector, label_vector, cv=cv)\n",
    "\n",
    "\n",
    "def save_model(model, file):\n",
    "    joblib.dump(model, file)\n",
    "\n",
    "def load_model(file):\n",
    "    return joblib.load(file)"
   ]
  },
  {
   "cell_type": "code",
   "execution_count": 3,
   "metadata": {
    "collapsed": true
   },
   "outputs": [],
   "source": [
    "# Constants\n",
    "produto = 0"
   ]
  },
  {
   "cell_type": "code",
   "execution_count": 4,
   "metadata": {
    "collapsed": true
   },
   "outputs": [],
   "source": [
    "# Get data\n",
    "df = pd.read_csv(\"data/data.csv\", sep=\"|\", low_memory=False)"
   ]
  },
  {
   "cell_type": "code",
   "execution_count": 5,
   "metadata": {
    "collapsed": true
   },
   "outputs": [],
   "source": [
    "# Clean it\n",
    "clean_kwargs = {\n",
    "    \"useless_columns\": [\"AGENCIA_NMBAIRRO\", \"NRENDERE\", \"QTFUNCIO\", \"DSSEXO\", \n",
    "                        \"DSPROFTL\", \"NMBAIRRO\", \"AGENCIA_DSENDCOP\", \"DSENDERE\", \n",
    "                        \"AGENCIA_NMRESAGE\", \"AGENCIA_NMCIDADE\"],\n",
    "    \"remove_redundant\": True,\n",
    "    \"remove_product_value\": True,\n",
    "    \"dummify_categorical\": True,\n",
    "    \"booleanfy\": True,\n",
    "}\n",
    "df = clean_data(df, **clean_kwargs)"
   ]
  },
  {
   "cell_type": "code",
   "execution_count": 6,
   "metadata": {
    "collapsed": true
   },
   "outputs": [],
   "source": [
    "# Get product list\n",
    "produtos = list(filter(lambda x: x.startswith(\"QTDE\"), df.columns.values))"
   ]
  },
  {
   "cell_type": "code",
   "execution_count": 7,
   "metadata": {
    "collapsed": true
   },
   "outputs": [],
   "source": [
    "# get sets\n",
    "sets_kwargs = {\n",
    "    \"include_other_products\": False,\n",
    "    \"test_size\": 0.2\n",
    "}\n",
    "data_train, data_test, label_train, label_test = get_sets(df, produtos[produto], produtos, **sets_kwargs)"
   ]
  },
  {
   "cell_type": "code",
   "execution_count": 8,
   "metadata": {
    "collapsed": true
   },
   "outputs": [],
   "source": [
    "pipeline = Pipeline([\n",
    "    ('classifier', MultinomialNB()),\n",
    "])"
   ]
  },
  {
   "cell_type": "code",
   "execution_count": 9,
   "metadata": {
    "collapsed": true
   },
   "outputs": [],
   "source": [
    "# Train model\n",
    "trained_pipeline = train_model(data_train, label_train, pipeline)\n",
    "save_model(trained_pipeline, \"model.pkl\")"
   ]
  },
  {
   "cell_type": "code",
   "execution_count": 10,
   "metadata": {},
   "outputs": [
    {
     "name": "stdout",
     "output_type": "stream",
     "text": [
      "\n",
      "Train set size: 49421 Test set size: 12356\n",
      "             precision    recall  f1-score   support\n",
      "\n",
      "          0       0.95      0.89      0.92      1890\n",
      "          1       0.98      0.99      0.99     10466\n",
      "\n",
      "avg / total       0.98      0.98      0.98     12356\n",
      "\n"
     ]
    },
    {
     "data": {
      "image/png": "[encoded data removed]",
      "text/plain": [
       "<matplotlib.figure.Figure at 0x10c8442b0>"
      ]
     },
     "metadata": {},
     "output_type": "display_data"
    }
   ],
   "source": [
    "# Plot confusion matrix\n",
    "confusion_test(data_test, label_test, trained_pipeline)"
   ]
  },
  {
   "cell_type": "code",
   "execution_count": 11,
   "metadata": {},
   "outputs": [
    {
     "name": "stdout",
     "output_type": "stream",
     "text": [
      "Creating figure\n",
      "Creating learning curve\n",
      "Processing results\n",
      "Creating grid\n",
      "Filling grid\n",
      "Plotting\n",
      "CPU times: user 1min, sys: 35.2 s, total: 1min 35s\n",
      "Wall time: 1min 8s\n"
     ]
    },
    {
     "data": {
      "image/png": "[encoded data removed]",
      "text/plain": [
       "<matplotlib.figure.Figure at 0x11b9cf208>"
      ]
     },
     "metadata": {},
     "output_type": "display_data"
    }
   ],
   "source": [
    "# Plot learning curve\n",
    "learning_kwargs = {\n",
    "    \"include_other_products\": False,\n",
    "    \"cv\": 10,\n",
    "}\n",
    "product_learning_curves(df, produtos[produto], produtos, produtos[produto], pipeline, **learning_kwargs)"
   ]
  },
  {
   "cell_type": "code",
   "execution_count": null,
   "metadata": {
    "collapsed": true
   },
   "outputs": [],
   "source": []
  },
  {
   "cell_type": "code",
   "execution_count": 12,
   "metadata": {},
   "outputs": [
    {
     "name": "stdout",
     "output_type": "stream",
     "text": [
      "[0.99999999994791722, 0.99999999989987032, 0.99999999979034726, 0.9999999997795328, 0.99999999962146546, 0.99999999945178786, 0.99999999937226391, 0.99999999925813654, 0.99999999897329417, 0.99999999884440172]\n"
     ]
    }
   ],
   "source": [
    "# Load trained model\n",
    "model = load_model(\"model.pkl\")\n",
    "# Make a prediction\n",
    "not_has_product = filter(lambda x: x[0] == 0, zip(label_test, model.predict_proba(data_test)))\n",
    "results = list(map(lambda x: x[1][0], not_has_product))\n",
    "results.sort(reverse=True)\n",
    "print(results[:10])"
   ]
  },
  {
   "cell_type": "code",
   "execution_count": null,
   "metadata": {
    "collapsed": true
   },
   "outputs": [],
   "source": []
  }
 ],
 "metadata": {
  "kernelspec": {
   "display_name": "Python [conda root]",
   "language": "python",
   "name": "conda-root-py"
  },
  "language_info": {
   "codemirror_mode": {
    "name": "ipython",
    "version": 3
   },
   "file_extension": ".py",
   "mimetype": "text/x-python",
   "name": "python",
   "nbconvert_exporter": "python",
   "pygments_lexer": "ipython3",
   "version": "3.5.3"
  }
 },
 "nbformat": 4,
 "nbformat_minor": 2
}
